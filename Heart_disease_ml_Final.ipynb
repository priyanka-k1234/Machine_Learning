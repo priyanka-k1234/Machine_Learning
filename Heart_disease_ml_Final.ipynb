{
  "nbformat": 4,
  "nbformat_minor": 0,
  "metadata": {
    "colab": {
      "provenance": []
    },
    "kernelspec": {
      "name": "python3",
      "display_name": "Python 3"
    },
    "language_info": {
      "name": "python"
    }
  },
  "cells": [
    {
      "cell_type": "markdown",
      "source": [
        "# M606 Machine Learning\n",
        "\n",
        "* submitted by : Priyanka Kumari\n",
        "* student number : GH1038160\n",
        "\n",
        "\n",
        "# Heart Disease prediction\n",
        "\n",
        "### Business Problem & Importance\n",
        "Heart disease is a leading cause of mortality worldwide, and early detection can significantly reduce fatalities. The primary goal is to develop a machine learning model that predicts heart disease risk based on patient data, allowing healthcare providers to intervene early.\n",
        "\n",
        "### Business Benefits\n",
        "* Early Diagnosis: Helps doctors identify high-risk patients before symptoms worsen.\n",
        "* Personalized Treatment Plans: Enables doctors to recommend preventive measures tailored to the patient's risk level.\n",
        "* Cost Reduction: Early detection reduces hospitalization costs and medical expenses.\n",
        "* Improved Decision-Making: A data-driven model assists cardiologists in making more accurate diagnoses.\n",
        "\n",
        "### Data set Url\n",
        "https://www.kaggle.com/code/akhilpm1996/heart-disease-prediction-simple-notebook/input\n",
        "\n",
        "### Github Url\n",
        "https://github.com/priyanka-k1234/Machine_Learning.git\n",
        "\n",
        "### About the data set\n",
        "The dataset has several columns related to heart disease that were loaded from a CSV file. These include \"age,\" \"sex,\" \"cp\" (type of chest pain), \"trestbps\" (blood pressure at rest), \"chol\" (serum cholesterol), \"fbs\" (blood sugar during fasting), \"restecg\" (resting electrocardiographic results), \"thalach\" (maximum heart rate achieved), \"exang\" (angina brought on by exercise), \"oldpeak\" (ST depression brought on by exercise relative to rest), \"slope\" (the slope of the peak exercise ST segment), \"ca\" (number of major vessels colored by fluoroscopy), \"thal\" (thalassemia), and \"target\" (heart disease). An summary of these variables and their starting values may be found in the first few rows of the dataframe. For example, the 'target' column in the dataset indicates if the patients have heart disease, as well as their age, sex, and other health indicators."
      ],
      "metadata": {
        "id": "mtkQW35u0RSq"
      }
    },
    {
      "cell_type": "markdown",
      "source": [
        "# Importing Libs"
      ],
      "metadata": {
        "id": "26jDEFV10jKf"
      }
    },
    {
      "cell_type": "code",
      "execution_count": 5,
      "metadata": {
        "id": "qQBMpCjTz7Gu"
      },
      "outputs": [],
      "source": [
        "import pandas as pd\n",
        "import numpy as np\n",
        "import matplotlib.pyplot as plt\n",
        "import seaborn as sns\n",
        "from sklearn.preprocessing import StandardScaler, OneHotEncoder\n",
        "from sklearn.compose import ColumnTransformer\n",
        "from sklearn.model_selection import train_test_split\n",
        "from imblearn.over_sampling import RandomOverSampler\n",
        "from sklearn.linear_model import LogisticRegression\n",
        "from sklearn.neighbors import KNeighborsClassifier\n",
        "from sklearn.svm import SVC\n",
        "from sklearn.pipeline import Pipeline\n",
        "from sklearn.metrics import accuracy_score, classification_report, confusion_matrix\n",
        "from urllib.request import urlretrieve"
      ]
    },
    {
      "cell_type": "markdown",
      "source": [
        "# Loading data set"
      ],
      "metadata": {
        "id": "lGK1rweG0m2r"
      }
    },
    {
      "cell_type": "code",
      "source": [
        "urlretrieve(\"https://raw.githubusercontent.com/priyanka-k1234/Machine_Learning/main/heart_disease_dataset.csv\", filename=\"heart_disease_dataset.csv\")\n",
        "heart_disease_data = pd.read_csv(\"heart_disease_dataset.csv\")\n",
        "\n",
        "heart_disease_data.head()"
      ],
      "metadata": {
        "colab": {
          "base_uri": "https://localhost:8080/",
          "height": 330
        },
        "id": "sHHD3UPV0rTD",
        "outputId": "909be2b1-5f7e-47bd-91c9-99417a2e69fb"
      },
      "execution_count": 6,
      "outputs": [
        {
          "output_type": "execute_result",
          "data": {
            "text/plain": [
              "   Age  Gender  Cholesterol  Blood Pressure  Heart Rate  Smoking  \\\n",
              "0   75  Female          228             119          66  Current   \n",
              "1   48    Male          204             165          62  Current   \n",
              "2   53    Male          234              91          67    Never   \n",
              "3   69  Female          192              90          72  Current   \n",
              "4   62  Female          172             163          93    Never   \n",
              "\n",
              "  Alcohol Intake  Exercise Hours Family History Diabetes Obesity  \\\n",
              "0          Heavy               1             No       No     Yes   \n",
              "1            NaN               5             No       No      No   \n",
              "2          Heavy               3            Yes       No     Yes   \n",
              "3            NaN               4             No      Yes      No   \n",
              "4            NaN               6             No      Yes      No   \n",
              "\n",
              "   Stress Level  Blood Sugar Exercise Induced Angina   Chest Pain Type  \\\n",
              "0             8          119                     Yes   Atypical Angina   \n",
              "1             9           70                     Yes    Typical Angina   \n",
              "2             5          196                     Yes   Atypical Angina   \n",
              "3             7          107                     Yes  Non-anginal Pain   \n",
              "4             2          183                     Yes      Asymptomatic   \n",
              "\n",
              "   Heart Disease  \n",
              "0              1  \n",
              "1              0  \n",
              "2              1  \n",
              "3              0  \n",
              "4              0  "
            ],
            "text/html": [
              "\n",
              "  <div id=\"df-9cd6b918-2fe8-4f7b-b4c1-37072e3e94bd\" class=\"colab-df-container\">\n",
              "    <div>\n",
              "<style scoped>\n",
              "    .dataframe tbody tr th:only-of-type {\n",
              "        vertical-align: middle;\n",
              "    }\n",
              "\n",
              "    .dataframe tbody tr th {\n",
              "        vertical-align: top;\n",
              "    }\n",
              "\n",
              "    .dataframe thead th {\n",
              "        text-align: right;\n",
              "    }\n",
              "</style>\n",
              "<table border=\"1\" class=\"dataframe\">\n",
              "  <thead>\n",
              "    <tr style=\"text-align: right;\">\n",
              "      <th></th>\n",
              "      <th>Age</th>\n",
              "      <th>Gender</th>\n",
              "      <th>Cholesterol</th>\n",
              "      <th>Blood Pressure</th>\n",
              "      <th>Heart Rate</th>\n",
              "      <th>Smoking</th>\n",
              "      <th>Alcohol Intake</th>\n",
              "      <th>Exercise Hours</th>\n",
              "      <th>Family History</th>\n",
              "      <th>Diabetes</th>\n",
              "      <th>Obesity</th>\n",
              "      <th>Stress Level</th>\n",
              "      <th>Blood Sugar</th>\n",
              "      <th>Exercise Induced Angina</th>\n",
              "      <th>Chest Pain Type</th>\n",
              "      <th>Heart Disease</th>\n",
              "    </tr>\n",
              "  </thead>\n",
              "  <tbody>\n",
              "    <tr>\n",
              "      <th>0</th>\n",
              "      <td>75</td>\n",
              "      <td>Female</td>\n",
              "      <td>228</td>\n",
              "      <td>119</td>\n",
              "      <td>66</td>\n",
              "      <td>Current</td>\n",
              "      <td>Heavy</td>\n",
              "      <td>1</td>\n",
              "      <td>No</td>\n",
              "      <td>No</td>\n",
              "      <td>Yes</td>\n",
              "      <td>8</td>\n",
              "      <td>119</td>\n",
              "      <td>Yes</td>\n",
              "      <td>Atypical Angina</td>\n",
              "      <td>1</td>\n",
              "    </tr>\n",
              "    <tr>\n",
              "      <th>1</th>\n",
              "      <td>48</td>\n",
              "      <td>Male</td>\n",
              "      <td>204</td>\n",
              "      <td>165</td>\n",
              "      <td>62</td>\n",
              "      <td>Current</td>\n",
              "      <td>NaN</td>\n",
              "      <td>5</td>\n",
              "      <td>No</td>\n",
              "      <td>No</td>\n",
              "      <td>No</td>\n",
              "      <td>9</td>\n",
              "      <td>70</td>\n",
              "      <td>Yes</td>\n",
              "      <td>Typical Angina</td>\n",
              "      <td>0</td>\n",
              "    </tr>\n",
              "    <tr>\n",
              "      <th>2</th>\n",
              "      <td>53</td>\n",
              "      <td>Male</td>\n",
              "      <td>234</td>\n",
              "      <td>91</td>\n",
              "      <td>67</td>\n",
              "      <td>Never</td>\n",
              "      <td>Heavy</td>\n",
              "      <td>3</td>\n",
              "      <td>Yes</td>\n",
              "      <td>No</td>\n",
              "      <td>Yes</td>\n",
              "      <td>5</td>\n",
              "      <td>196</td>\n",
              "      <td>Yes</td>\n",
              "      <td>Atypical Angina</td>\n",
              "      <td>1</td>\n",
              "    </tr>\n",
              "    <tr>\n",
              "      <th>3</th>\n",
              "      <td>69</td>\n",
              "      <td>Female</td>\n",
              "      <td>192</td>\n",
              "      <td>90</td>\n",
              "      <td>72</td>\n",
              "      <td>Current</td>\n",
              "      <td>NaN</td>\n",
              "      <td>4</td>\n",
              "      <td>No</td>\n",
              "      <td>Yes</td>\n",
              "      <td>No</td>\n",
              "      <td>7</td>\n",
              "      <td>107</td>\n",
              "      <td>Yes</td>\n",
              "      <td>Non-anginal Pain</td>\n",
              "      <td>0</td>\n",
              "    </tr>\n",
              "    <tr>\n",
              "      <th>4</th>\n",
              "      <td>62</td>\n",
              "      <td>Female</td>\n",
              "      <td>172</td>\n",
              "      <td>163</td>\n",
              "      <td>93</td>\n",
              "      <td>Never</td>\n",
              "      <td>NaN</td>\n",
              "      <td>6</td>\n",
              "      <td>No</td>\n",
              "      <td>Yes</td>\n",
              "      <td>No</td>\n",
              "      <td>2</td>\n",
              "      <td>183</td>\n",
              "      <td>Yes</td>\n",
              "      <td>Asymptomatic</td>\n",
              "      <td>0</td>\n",
              "    </tr>\n",
              "  </tbody>\n",
              "</table>\n",
              "</div>\n",
              "    <div class=\"colab-df-buttons\">\n",
              "\n",
              "  <div class=\"colab-df-container\">\n",
              "    <button class=\"colab-df-convert\" onclick=\"convertToInteractive('df-9cd6b918-2fe8-4f7b-b4c1-37072e3e94bd')\"\n",
              "            title=\"Convert this dataframe to an interactive table.\"\n",
              "            style=\"display:none;\">\n",
              "\n",
              "  <svg xmlns=\"http://www.w3.org/2000/svg\" height=\"24px\" viewBox=\"0 -960 960 960\">\n",
              "    <path d=\"M120-120v-720h720v720H120Zm60-500h600v-160H180v160Zm220 220h160v-160H400v160Zm0 220h160v-160H400v160ZM180-400h160v-160H180v160Zm440 0h160v-160H620v160ZM180-180h160v-160H180v160Zm440 0h160v-160H620v160Z\"/>\n",
              "  </svg>\n",
              "    </button>\n",
              "\n",
              "  <style>\n",
              "    .colab-df-container {\n",
              "      display:flex;\n",
              "      gap: 12px;\n",
              "    }\n",
              "\n",
              "    .colab-df-convert {\n",
              "      background-color: #E8F0FE;\n",
              "      border: none;\n",
              "      border-radius: 50%;\n",
              "      cursor: pointer;\n",
              "      display: none;\n",
              "      fill: #1967D2;\n",
              "      height: 32px;\n",
              "      padding: 0 0 0 0;\n",
              "      width: 32px;\n",
              "    }\n",
              "\n",
              "    .colab-df-convert:hover {\n",
              "      background-color: #E2EBFA;\n",
              "      box-shadow: 0px 1px 2px rgba(60, 64, 67, 0.3), 0px 1px 3px 1px rgba(60, 64, 67, 0.15);\n",
              "      fill: #174EA6;\n",
              "    }\n",
              "\n",
              "    .colab-df-buttons div {\n",
              "      margin-bottom: 4px;\n",
              "    }\n",
              "\n",
              "    [theme=dark] .colab-df-convert {\n",
              "      background-color: #3B4455;\n",
              "      fill: #D2E3FC;\n",
              "    }\n",
              "\n",
              "    [theme=dark] .colab-df-convert:hover {\n",
              "      background-color: #434B5C;\n",
              "      box-shadow: 0px 1px 3px 1px rgba(0, 0, 0, 0.15);\n",
              "      filter: drop-shadow(0px 1px 2px rgba(0, 0, 0, 0.3));\n",
              "      fill: #FFFFFF;\n",
              "    }\n",
              "  </style>\n",
              "\n",
              "    <script>\n",
              "      const buttonEl =\n",
              "        document.querySelector('#df-9cd6b918-2fe8-4f7b-b4c1-37072e3e94bd button.colab-df-convert');\n",
              "      buttonEl.style.display =\n",
              "        google.colab.kernel.accessAllowed ? 'block' : 'none';\n",
              "\n",
              "      async function convertToInteractive(key) {\n",
              "        const element = document.querySelector('#df-9cd6b918-2fe8-4f7b-b4c1-37072e3e94bd');\n",
              "        const dataTable =\n",
              "          await google.colab.kernel.invokeFunction('convertToInteractive',\n",
              "                                                    [key], {});\n",
              "        if (!dataTable) return;\n",
              "\n",
              "        const docLinkHtml = 'Like what you see? Visit the ' +\n",
              "          '<a target=\"_blank\" href=https://colab.research.google.com/notebooks/data_table.ipynb>data table notebook</a>'\n",
              "          + ' to learn more about interactive tables.';\n",
              "        element.innerHTML = '';\n",
              "        dataTable['output_type'] = 'display_data';\n",
              "        await google.colab.output.renderOutput(dataTable, element);\n",
              "        const docLink = document.createElement('div');\n",
              "        docLink.innerHTML = docLinkHtml;\n",
              "        element.appendChild(docLink);\n",
              "      }\n",
              "    </script>\n",
              "  </div>\n",
              "\n",
              "\n",
              "<div id=\"df-706b5ff5-8674-4c6e-aaa4-2fb10279c580\">\n",
              "  <button class=\"colab-df-quickchart\" onclick=\"quickchart('df-706b5ff5-8674-4c6e-aaa4-2fb10279c580')\"\n",
              "            title=\"Suggest charts\"\n",
              "            style=\"display:none;\">\n",
              "\n",
              "<svg xmlns=\"http://www.w3.org/2000/svg\" height=\"24px\"viewBox=\"0 0 24 24\"\n",
              "     width=\"24px\">\n",
              "    <g>\n",
              "        <path d=\"M19 3H5c-1.1 0-2 .9-2 2v14c0 1.1.9 2 2 2h14c1.1 0 2-.9 2-2V5c0-1.1-.9-2-2-2zM9 17H7v-7h2v7zm4 0h-2V7h2v10zm4 0h-2v-4h2v4z\"/>\n",
              "    </g>\n",
              "</svg>\n",
              "  </button>\n",
              "\n",
              "<style>\n",
              "  .colab-df-quickchart {\n",
              "      --bg-color: #E8F0FE;\n",
              "      --fill-color: #1967D2;\n",
              "      --hover-bg-color: #E2EBFA;\n",
              "      --hover-fill-color: #174EA6;\n",
              "      --disabled-fill-color: #AAA;\n",
              "      --disabled-bg-color: #DDD;\n",
              "  }\n",
              "\n",
              "  [theme=dark] .colab-df-quickchart {\n",
              "      --bg-color: #3B4455;\n",
              "      --fill-color: #D2E3FC;\n",
              "      --hover-bg-color: #434B5C;\n",
              "      --hover-fill-color: #FFFFFF;\n",
              "      --disabled-bg-color: #3B4455;\n",
              "      --disabled-fill-color: #666;\n",
              "  }\n",
              "\n",
              "  .colab-df-quickchart {\n",
              "    background-color: var(--bg-color);\n",
              "    border: none;\n",
              "    border-radius: 50%;\n",
              "    cursor: pointer;\n",
              "    display: none;\n",
              "    fill: var(--fill-color);\n",
              "    height: 32px;\n",
              "    padding: 0;\n",
              "    width: 32px;\n",
              "  }\n",
              "\n",
              "  .colab-df-quickchart:hover {\n",
              "    background-color: var(--hover-bg-color);\n",
              "    box-shadow: 0 1px 2px rgba(60, 64, 67, 0.3), 0 1px 3px 1px rgba(60, 64, 67, 0.15);\n",
              "    fill: var(--button-hover-fill-color);\n",
              "  }\n",
              "\n",
              "  .colab-df-quickchart-complete:disabled,\n",
              "  .colab-df-quickchart-complete:disabled:hover {\n",
              "    background-color: var(--disabled-bg-color);\n",
              "    fill: var(--disabled-fill-color);\n",
              "    box-shadow: none;\n",
              "  }\n",
              "\n",
              "  .colab-df-spinner {\n",
              "    border: 2px solid var(--fill-color);\n",
              "    border-color: transparent;\n",
              "    border-bottom-color: var(--fill-color);\n",
              "    animation:\n",
              "      spin 1s steps(1) infinite;\n",
              "  }\n",
              "\n",
              "  @keyframes spin {\n",
              "    0% {\n",
              "      border-color: transparent;\n",
              "      border-bottom-color: var(--fill-color);\n",
              "      border-left-color: var(--fill-color);\n",
              "    }\n",
              "    20% {\n",
              "      border-color: transparent;\n",
              "      border-left-color: var(--fill-color);\n",
              "      border-top-color: var(--fill-color);\n",
              "    }\n",
              "    30% {\n",
              "      border-color: transparent;\n",
              "      border-left-color: var(--fill-color);\n",
              "      border-top-color: var(--fill-color);\n",
              "      border-right-color: var(--fill-color);\n",
              "    }\n",
              "    40% {\n",
              "      border-color: transparent;\n",
              "      border-right-color: var(--fill-color);\n",
              "      border-top-color: var(--fill-color);\n",
              "    }\n",
              "    60% {\n",
              "      border-color: transparent;\n",
              "      border-right-color: var(--fill-color);\n",
              "    }\n",
              "    80% {\n",
              "      border-color: transparent;\n",
              "      border-right-color: var(--fill-color);\n",
              "      border-bottom-color: var(--fill-color);\n",
              "    }\n",
              "    90% {\n",
              "      border-color: transparent;\n",
              "      border-bottom-color: var(--fill-color);\n",
              "    }\n",
              "  }\n",
              "</style>\n",
              "\n",
              "  <script>\n",
              "    async function quickchart(key) {\n",
              "      const quickchartButtonEl =\n",
              "        document.querySelector('#' + key + ' button');\n",
              "      quickchartButtonEl.disabled = true;  // To prevent multiple clicks.\n",
              "      quickchartButtonEl.classList.add('colab-df-spinner');\n",
              "      try {\n",
              "        const charts = await google.colab.kernel.invokeFunction(\n",
              "            'suggestCharts', [key], {});\n",
              "      } catch (error) {\n",
              "        console.error('Error during call to suggestCharts:', error);\n",
              "      }\n",
              "      quickchartButtonEl.classList.remove('colab-df-spinner');\n",
              "      quickchartButtonEl.classList.add('colab-df-quickchart-complete');\n",
              "    }\n",
              "    (() => {\n",
              "      let quickchartButtonEl =\n",
              "        document.querySelector('#df-706b5ff5-8674-4c6e-aaa4-2fb10279c580 button');\n",
              "      quickchartButtonEl.style.display =\n",
              "        google.colab.kernel.accessAllowed ? 'block' : 'none';\n",
              "    })();\n",
              "  </script>\n",
              "</div>\n",
              "\n",
              "    </div>\n",
              "  </div>\n"
            ],
            "application/vnd.google.colaboratory.intrinsic+json": {
              "type": "dataframe",
              "variable_name": "heart_disease_data",
              "summary": "{\n  \"name\": \"heart_disease_data\",\n  \"rows\": 1000,\n  \"fields\": [\n    {\n      \"column\": \"Age\",\n      \"properties\": {\n        \"dtype\": \"number\",\n        \"std\": 15,\n        \"min\": 25,\n        \"max\": 79,\n        \"num_unique_values\": 55,\n        \"samples\": [\n          52,\n          77,\n          38\n        ],\n        \"semantic_type\": \"\",\n        \"description\": \"\"\n      }\n    },\n    {\n      \"column\": \"Gender\",\n      \"properties\": {\n        \"dtype\": \"category\",\n        \"num_unique_values\": 2,\n        \"samples\": [\n          \"Male\",\n          \"Female\"\n        ],\n        \"semantic_type\": \"\",\n        \"description\": \"\"\n      }\n    },\n    {\n      \"column\": \"Cholesterol\",\n      \"properties\": {\n        \"dtype\": \"number\",\n        \"std\": 57,\n        \"min\": 150,\n        \"max\": 349,\n        \"num_unique_values\": 200,\n        \"samples\": [\n          270,\n          279\n        ],\n        \"semantic_type\": \"\",\n        \"description\": \"\"\n      }\n    },\n    {\n      \"column\": \"Blood Pressure\",\n      \"properties\": {\n        \"dtype\": \"number\",\n        \"std\": 26,\n        \"min\": 90,\n        \"max\": 179,\n        \"num_unique_values\": 90,\n        \"samples\": [\n          120,\n          103\n        ],\n        \"semantic_type\": \"\",\n        \"description\": \"\"\n      }\n    },\n    {\n      \"column\": \"Heart Rate\",\n      \"properties\": {\n        \"dtype\": \"number\",\n        \"std\": 11,\n        \"min\": 60,\n        \"max\": 99,\n        \"num_unique_values\": 40,\n        \"samples\": [\n          71,\n          64\n        ],\n        \"semantic_type\": \"\",\n        \"description\": \"\"\n      }\n    },\n    {\n      \"column\": \"Smoking\",\n      \"properties\": {\n        \"dtype\": \"category\",\n        \"num_unique_values\": 3,\n        \"samples\": [\n          \"Current\",\n          \"Never\"\n        ],\n        \"semantic_type\": \"\",\n        \"description\": \"\"\n      }\n    },\n    {\n      \"column\": \"Alcohol Intake\",\n      \"properties\": {\n        \"dtype\": \"category\",\n        \"num_unique_values\": 2,\n        \"samples\": [\n          \"Moderate\",\n          \"Heavy\"\n        ],\n        \"semantic_type\": \"\",\n        \"description\": \"\"\n      }\n    },\n    {\n      \"column\": \"Exercise Hours\",\n      \"properties\": {\n        \"dtype\": \"number\",\n        \"std\": 2,\n        \"min\": 0,\n        \"max\": 9,\n        \"num_unique_values\": 10,\n        \"samples\": [\n          7,\n          5\n        ],\n        \"semantic_type\": \"\",\n        \"description\": \"\"\n      }\n    },\n    {\n      \"column\": \"Family History\",\n      \"properties\": {\n        \"dtype\": \"category\",\n        \"num_unique_values\": 2,\n        \"samples\": [\n          \"Yes\",\n          \"No\"\n        ],\n        \"semantic_type\": \"\",\n        \"description\": \"\"\n      }\n    },\n    {\n      \"column\": \"Diabetes\",\n      \"properties\": {\n        \"dtype\": \"category\",\n        \"num_unique_values\": 2,\n        \"samples\": [\n          \"Yes\",\n          \"No\"\n        ],\n        \"semantic_type\": \"\",\n        \"description\": \"\"\n      }\n    },\n    {\n      \"column\": \"Obesity\",\n      \"properties\": {\n        \"dtype\": \"category\",\n        \"num_unique_values\": 2,\n        \"samples\": [\n          \"No\",\n          \"Yes\"\n        ],\n        \"semantic_type\": \"\",\n        \"description\": \"\"\n      }\n    },\n    {\n      \"column\": \"Stress Level\",\n      \"properties\": {\n        \"dtype\": \"number\",\n        \"std\": 2,\n        \"min\": 1,\n        \"max\": 10,\n        \"num_unique_values\": 10,\n        \"samples\": [\n          1,\n          9\n        ],\n        \"semantic_type\": \"\",\n        \"description\": \"\"\n      }\n    },\n    {\n      \"column\": \"Blood Sugar\",\n      \"properties\": {\n        \"dtype\": \"number\",\n        \"std\": 36,\n        \"min\": 70,\n        \"max\": 199,\n        \"num_unique_values\": 130,\n        \"samples\": [\n          105,\n          160\n        ],\n        \"semantic_type\": \"\",\n        \"description\": \"\"\n      }\n    },\n    {\n      \"column\": \"Exercise Induced Angina\",\n      \"properties\": {\n        \"dtype\": \"category\",\n        \"num_unique_values\": 2,\n        \"samples\": [\n          \"No\",\n          \"Yes\"\n        ],\n        \"semantic_type\": \"\",\n        \"description\": \"\"\n      }\n    },\n    {\n      \"column\": \"Chest Pain Type\",\n      \"properties\": {\n        \"dtype\": \"category\",\n        \"num_unique_values\": 4,\n        \"samples\": [\n          \"Typical Angina\",\n          \"Asymptomatic\"\n        ],\n        \"semantic_type\": \"\",\n        \"description\": \"\"\n      }\n    },\n    {\n      \"column\": \"Heart Disease\",\n      \"properties\": {\n        \"dtype\": \"number\",\n        \"std\": 0,\n        \"min\": 0,\n        \"max\": 1,\n        \"num_unique_values\": 2,\n        \"samples\": [\n          0,\n          1\n        ],\n        \"semantic_type\": \"\",\n        \"description\": \"\"\n      }\n    }\n  ]\n}"
            }
          },
          "metadata": {},
          "execution_count": 6
        }
      ]
    },
    {
      "cell_type": "markdown",
      "source": [
        "The dataset has numerous columns of various types of data, ranging from floating to integers. It consists entries. 'Age','sex', 'cp', 'trestbps', 'chol', 'fbs','restecg', 'thalach', 'exang', 'oldpeak','slope', 'ca', 'thal', and 'target' are significant columns. There exist non-null values in each column, meaning the dataset has no missing values. While 'oldpeak' is of float type, columns 'age','sex', 'cp', 'trestbps', 'chol', 'fbs','restecg', 'thalach', 'exang','slope', 'ca', 'thal', and 'target' are all of integer type"
      ],
      "metadata": {
        "id": "uyGCvAVy1bMS"
      }
    },
    {
      "cell_type": "markdown",
      "source": [
        "# Checking For Missing Values\n",
        "\n",
        "After verifying the dataset for missing values, it was discovered that every column contains exactly the number of missing values. There are zero null values in all columns, 'age','sex', 'cp', 'trestbps', 'chol', 'fbs','restecg', 'thalach', 'exang', 'oldpeak','slope', 'ca', 'thal', and 'target'. This means there are only missing values for Alcohol intake."
      ],
      "metadata": {
        "id": "cca6oQQ218oM"
      }
    },
    {
      "cell_type": "code",
      "source": [
        "heart_disease_data.isnull().sum()"
      ],
      "metadata": {
        "colab": {
          "base_uri": "https://localhost:8080/",
          "height": 585
        },
        "id": "Tpmwl36s1dV5",
        "outputId": "2d73f8ed-7be7-4f84-ff4d-49885c6bd8a2"
      },
      "execution_count": 7,
      "outputs": [
        {
          "output_type": "execute_result",
          "data": {
            "text/plain": [
              "Age                          0\n",
              "Gender                       0\n",
              "Cholesterol                  0\n",
              "Blood Pressure               0\n",
              "Heart Rate                   0\n",
              "Smoking                      0\n",
              "Alcohol Intake             340\n",
              "Exercise Hours               0\n",
              "Family History               0\n",
              "Diabetes                     0\n",
              "Obesity                      0\n",
              "Stress Level                 0\n",
              "Blood Sugar                  0\n",
              "Exercise Induced Angina      0\n",
              "Chest Pain Type              0\n",
              "Heart Disease                0\n",
              "dtype: int64"
            ],
            "text/html": [
              "<div>\n",
              "<style scoped>\n",
              "    .dataframe tbody tr th:only-of-type {\n",
              "        vertical-align: middle;\n",
              "    }\n",
              "\n",
              "    .dataframe tbody tr th {\n",
              "        vertical-align: top;\n",
              "    }\n",
              "\n",
              "    .dataframe thead th {\n",
              "        text-align: right;\n",
              "    }\n",
              "</style>\n",
              "<table border=\"1\" class=\"dataframe\">\n",
              "  <thead>\n",
              "    <tr style=\"text-align: right;\">\n",
              "      <th></th>\n",
              "      <th>0</th>\n",
              "    </tr>\n",
              "  </thead>\n",
              "  <tbody>\n",
              "    <tr>\n",
              "      <th>Age</th>\n",
              "      <td>0</td>\n",
              "    </tr>\n",
              "    <tr>\n",
              "      <th>Gender</th>\n",
              "      <td>0</td>\n",
              "    </tr>\n",
              "    <tr>\n",
              "      <th>Cholesterol</th>\n",
              "      <td>0</td>\n",
              "    </tr>\n",
              "    <tr>\n",
              "      <th>Blood Pressure</th>\n",
              "      <td>0</td>\n",
              "    </tr>\n",
              "    <tr>\n",
              "      <th>Heart Rate</th>\n",
              "      <td>0</td>\n",
              "    </tr>\n",
              "    <tr>\n",
              "      <th>Smoking</th>\n",
              "      <td>0</td>\n",
              "    </tr>\n",
              "    <tr>\n",
              "      <th>Alcohol Intake</th>\n",
              "      <td>340</td>\n",
              "    </tr>\n",
              "    <tr>\n",
              "      <th>Exercise Hours</th>\n",
              "      <td>0</td>\n",
              "    </tr>\n",
              "    <tr>\n",
              "      <th>Family History</th>\n",
              "      <td>0</td>\n",
              "    </tr>\n",
              "    <tr>\n",
              "      <th>Diabetes</th>\n",
              "      <td>0</td>\n",
              "    </tr>\n",
              "    <tr>\n",
              "      <th>Obesity</th>\n",
              "      <td>0</td>\n",
              "    </tr>\n",
              "    <tr>\n",
              "      <th>Stress Level</th>\n",
              "      <td>0</td>\n",
              "    </tr>\n",
              "    <tr>\n",
              "      <th>Blood Sugar</th>\n",
              "      <td>0</td>\n",
              "    </tr>\n",
              "    <tr>\n",
              "      <th>Exercise Induced Angina</th>\n",
              "      <td>0</td>\n",
              "    </tr>\n",
              "    <tr>\n",
              "      <th>Chest Pain Type</th>\n",
              "      <td>0</td>\n",
              "    </tr>\n",
              "    <tr>\n",
              "      <th>Heart Disease</th>\n",
              "      <td>0</td>\n",
              "    </tr>\n",
              "  </tbody>\n",
              "</table>\n",
              "</div><br><label><b>dtype:</b> int64</label>"
            ]
          },
          "metadata": {},
          "execution_count": 7
        }
      ]
    },
    {
      "cell_type": "markdown",
      "source": [
        "# Filling Nil with empty columns\n",
        "\n",
        "In place of the missing values, the string \"Nill\" has been placed in the \"Alcohol Intake\" column of the dataset. Distribution analysis of 'Alcohol Intake' data has been performed after imputing the missing values. The relative frequency of each of the unique values in the column is represented by the value counts normalized to percentages, representing the relative frequency of each alcohol intake category in the entries of the dataset."
      ],
      "metadata": {
        "id": "G1GR7rNY2fMl"
      }
    },
    {
      "cell_type": "code",
      "source": [
        "heart_disease_data['Alcohol Intake'] = heart_disease_data['Alcohol Intake'].fillna(\"Nill\")\n",
        "heart_disease_data['Alcohol Intake'].value_counts(normalize=True)"
      ],
      "metadata": {
        "colab": {
          "base_uri": "https://localhost:8080/",
          "height": 209
        },
        "id": "8Vt48nSY2v_2",
        "outputId": "354c7f13-3f49-4a1c-989c-5d60286bdd3a"
      },
      "execution_count": 8,
      "outputs": [
        {
          "output_type": "execute_result",
          "data": {
            "text/plain": [
              "Alcohol Intake\n",
              "Heavy       0.346\n",
              "Nill        0.340\n",
              "Moderate    0.314\n",
              "Name: proportion, dtype: float64"
            ],
            "text/html": [
              "<div>\n",
              "<style scoped>\n",
              "    .dataframe tbody tr th:only-of-type {\n",
              "        vertical-align: middle;\n",
              "    }\n",
              "\n",
              "    .dataframe tbody tr th {\n",
              "        vertical-align: top;\n",
              "    }\n",
              "\n",
              "    .dataframe thead th {\n",
              "        text-align: right;\n",
              "    }\n",
              "</style>\n",
              "<table border=\"1\" class=\"dataframe\">\n",
              "  <thead>\n",
              "    <tr style=\"text-align: right;\">\n",
              "      <th></th>\n",
              "      <th>proportion</th>\n",
              "    </tr>\n",
              "    <tr>\n",
              "      <th>Alcohol Intake</th>\n",
              "      <th></th>\n",
              "    </tr>\n",
              "  </thead>\n",
              "  <tbody>\n",
              "    <tr>\n",
              "      <th>Heavy</th>\n",
              "      <td>0.346</td>\n",
              "    </tr>\n",
              "    <tr>\n",
              "      <th>Nill</th>\n",
              "      <td>0.340</td>\n",
              "    </tr>\n",
              "    <tr>\n",
              "      <th>Moderate</th>\n",
              "      <td>0.314</td>\n",
              "    </tr>\n",
              "  </tbody>\n",
              "</table>\n",
              "</div><br><label><b>dtype:</b> float64</label>"
            ]
          },
          "metadata": {},
          "execution_count": 8
        }
      ]
    },
    {
      "cell_type": "markdown",
      "source": [
        "# Define Categorical and Numerical Columns\n",
        "\n",
        "Numerical and category columns make up the dataset. 'Gender', 'Smoking', 'Alcohol Intake', 'Family History', 'Diabetes', 'Obesity', 'Exercise Induced Angina', and 'Chest Pain Type' are a few variables that fall under the category of columns. These columns hold discrete values with various groupings or categories. Numerical columns, however, include 'Age', 'Cholesterol', 'Blood Pressure', 'Heart Rate', 'Exercise Hours', 'Stress Level', and 'Blood Sugar'. There are measurable and quantifiable continuous variables in these columns. Appropriate statistical analysis and machine learning processes require the understanding of category vs. numerical columns because different data types have distinct handling and processing techniques"
      ],
      "metadata": {
        "id": "2FRTqHqc3PQY"
      }
    },
    {
      "cell_type": "code",
      "source": [
        "print(heart_disease_data.columns)\n",
        "print(heart_disease_data.nunique())\n",
        "\n",
        "categorical_cols = ['Gender', 'Smoking', 'Alcohol Intake', 'Family History', 'Diabetes', 'Obesity', 'Exercise Induced Angina', 'Chest Pain Type']\n",
        "numerical_cols = ['Age', 'Cholesterol', 'Blood Pressure', 'Heart Rate', 'Exercise Hours', 'Stress Level', 'Blood Sugar']"
      ],
      "metadata": {
        "colab": {
          "base_uri": "https://localhost:8080/"
        },
        "id": "phQFP7xi3ccL",
        "outputId": "2e362b90-b2cf-4cd3-d10b-cccb817f6f5a"
      },
      "execution_count": 9,
      "outputs": [
        {
          "output_type": "stream",
          "name": "stdout",
          "text": [
            "Index(['Age', 'Gender', 'Cholesterol', 'Blood Pressure', 'Heart Rate',\n",
            "       'Smoking', 'Alcohol Intake', 'Exercise Hours', 'Family History',\n",
            "       'Diabetes', 'Obesity', 'Stress Level', 'Blood Sugar',\n",
            "       'Exercise Induced Angina', 'Chest Pain Type', 'Heart Disease'],\n",
            "      dtype='object')\n",
            "Age                         55\n",
            "Gender                       2\n",
            "Cholesterol                200\n",
            "Blood Pressure              90\n",
            "Heart Rate                  40\n",
            "Smoking                      3\n",
            "Alcohol Intake               3\n",
            "Exercise Hours              10\n",
            "Family History               2\n",
            "Diabetes                     2\n",
            "Obesity                      2\n",
            "Stress Level                10\n",
            "Blood Sugar                130\n",
            "Exercise Induced Angina      2\n",
            "Chest Pain Type              4\n",
            "Heart Disease                2\n",
            "dtype: int64\n"
          ]
        }
      ]
    },
    {
      "cell_type": "markdown",
      "source": [
        "# Data Preprocessing\n",
        "\n",
        "#### StandardScaler for Numerical Columns:\n",
        "\n",
        "* Scales the data to unit variance and zero mean in order to standardize the data.\n",
        "\n",
        "#### OneHotEncoder for Categorical Columns:\n",
        "\n",
        "* Creates binary (0 or 1) columns for each category.\n",
        "* Drops the first category in order to avoid multicollinearity.\n",
        "\n",
        "#### ColumnTransformer:\n",
        "\n",
        "* Applies the above transformations to the respective groups of numerical and categorical columns.\n",
        "\n",
        "#### Pipeline Construction:\n",
        "\n",
        "* Creates a pipeline with the ColumnTransformer as its only step.\n",
        "* Offers consistent and efficient application of preprocessing routines when fitting and transforming data."
      ],
      "metadata": {
        "id": "RvgfEiK54LE1"
      }
    },
    {
      "cell_type": "code",
      "source": [
        "numerical_transformer = StandardScaler()\n",
        "\n",
        "\n",
        "categorical_transformer = OneHotEncoder(drop='first')\n",
        "\n",
        "\n",
        "preprocessor = ColumnTransformer(\n",
        "    transformers=[\n",
        "        ('num', numerical_transformer, numerical_cols),\n",
        "        ('cat', categorical_transformer, categorical_cols)\n",
        "    ])\n",
        "\n",
        "pipeline = Pipeline(steps=[('preprocessor', preprocessor)])"
      ],
      "metadata": {
        "id": "Ai4w6cFh4M2A"
      },
      "execution_count": 10,
      "outputs": []
    },
    {
      "cell_type": "markdown",
      "source": [
        "# Split the Data into Training and Testing Sets\n",
        "\n",
        "The code snippet below creates a machine learning pipeline from the dataset to predict on 'Heart Disease'. The roles of the code have been summarized as follows:\n",
        "\n",
        "The target variable ({y}) and features ({X}) are partitioned first using the dataframe {df}. When excluding 'Heart Disease', the remaining columns are all in `X}, which is the target variable {y} for that column.\n",
        "\n",
        "Lastly, train_test_split from scikit-learn is used to divide the dataset into a test and a train set. Eighty percent of data are placed in the test set `X_test and y_test) and twenty percent of data are placed in the train set (X_train and y_train). The split is made reproducible using the random_state argument.\n",
        "\n",
        "Fitting the machine learning pipeline pipeline to training data X_train should have been performed in advance."
      ],
      "metadata": {
        "id": "52R8ZPFV482G"
      }
    },
    {
      "cell_type": "code",
      "source": [
        "X = heart_disease_data.drop('Heart Disease', axis=1)\n",
        "y = heart_disease_data['Heart Disease']\n",
        "X_train, X_test, y_train, y_test = train_test_split(X, y, test_size=0.2, random_state=42)\n",
        "\n",
        "pipeline.fit(X_train)\n",
        "\n",
        "X_train_transformed = pipeline.transform(X_train)\n",
        "X_test_transformed = pipeline.transform(X_test)"
      ],
      "metadata": {
        "id": "VNYciNPi5BVs"
      },
      "execution_count": 11,
      "outputs": []
    },
    {
      "cell_type": "markdown",
      "source": [
        "# Define Models,Train and Evaluate Models\n",
        "\n",
        "The majority of machine learning models (X_train_transformed, y_train) are initialized and trained with the transformed training data in this code line. Various models are experimented upon, like Support Vector Machine, Random Forest, K-Nearest Neighbors, and Logistic Regression.\n",
        "\n",
        "Using the altered training data, each model is trained using model.fit.\n",
        "\n",
        "Using model.predict, predictions are made with the transformed testing data (X_test_transformed).\n",
        "\n",
        "Using accuracy_score, the accuracy of all models is computed by comparing the predicted y_pred of each model with actual values y_test.\n",
        "Moreover, classification_report is used to generate a global classification report that offers support, recall, F1-score, precision, and F1-score for all classes in the target variable.\n",
        "\n",
        "This step enables the assessment of several models using performance criteria and accuracy in order to determine which model"
      ],
      "metadata": {
        "id": "a5-Pi-wE5QzJ"
      }
    },
    {
      "cell_type": "markdown",
      "source": [
        "# Logistic Regression with Hyperparameter Tuning"
      ],
      "metadata": {
        "id": "AnK5QncxGGBg"
      }
    },
    {
      "cell_type": "code",
      "source": [
        "log_reg_params = [\n",
        "    {\"C\": 0.01, \"solver\": \"liblinear\"},\n",
        "    {\"C\": 0.1, \"solver\": \"liblinear\"},\n",
        "    {\"C\": 1, \"solver\": \"liblinear\"},\n",
        "    {\"C\": 10, \"solver\": \"liblinear\"},\n",
        "    {\"C\": 0.01, \"solver\": \"lbfgs\"},\n",
        "    {\"C\": 0.1, \"solver\": \"lbfgs\"},\n",
        "    {\"C\": 1, \"solver\": \"lbfgs\"},\n",
        "    {\"C\": 10, \"solver\": \"lbfgs\"}\n",
        "]\n",
        "\n",
        "best_logistic_model = None\n",
        "best_logistic_accuracy = 0\n",
        "best_logistic_params = {}\n",
        "\n",
        "print(\"\\n Tuning Logistic Regression...\")\n",
        "for params in log_reg_params:\n",
        "    model = LogisticRegression(**params)\n",
        "    model.fit(X_train_transformed, y_train)\n",
        "    y_pred = model.predict(X_test_transformed)\n",
        "    acc = accuracy_score(y_test, y_pred)\n",
        "\n",
        "    print(f\"Params: {params}, Accuracy: {acc:.4f}\")\n",
        "\n",
        "    if acc > best_logistic_accuracy:\n",
        "        best_logistic_accuracy = acc\n",
        "        best_logistic_model = model\n",
        "        best_logistic_params = params\n",
        "\n",
        "print(\"\\n Best Logistic Regression Model:\")\n",
        "print(f\"Hyperparameters: {best_logistic_params}\")\n",
        "print(f\"Accuracy: {best_logistic_accuracy:.4f}\")"
      ],
      "metadata": {
        "colab": {
          "base_uri": "https://localhost:8080/"
        },
        "id": "c8ssyAo_5PnS",
        "outputId": "467f558e-6bbf-408c-cace-6a2e4612fb92"
      },
      "execution_count": 12,
      "outputs": [
        {
          "output_type": "stream",
          "name": "stdout",
          "text": [
            "\n",
            " Tuning Logistic Regression...\n",
            "Params: {'C': 0.01, 'solver': 'liblinear'}, Accuracy: 0.8500\n",
            "Params: {'C': 0.1, 'solver': 'liblinear'}, Accuracy: 0.8650\n",
            "Params: {'C': 1, 'solver': 'liblinear'}, Accuracy: 0.8700\n",
            "Params: {'C': 10, 'solver': 'liblinear'}, Accuracy: 0.8700\n",
            "Params: {'C': 0.01, 'solver': 'lbfgs'}, Accuracy: 0.8400\n",
            "Params: {'C': 0.1, 'solver': 'lbfgs'}, Accuracy: 0.8650\n",
            "Params: {'C': 1, 'solver': 'lbfgs'}, Accuracy: 0.8700\n",
            "Params: {'C': 10, 'solver': 'lbfgs'}, Accuracy: 0.8700\n",
            "\n",
            " Best Logistic Regression Model:\n",
            "Hyperparameters: {'C': 1, 'solver': 'liblinear'}\n",
            "Accuracy: 0.8700\n"
          ]
        }
      ]
    },
    {
      "cell_type": "markdown",
      "source": [
        "# Support Vector Machine (SVM) Hyperparameter Tuning"
      ],
      "metadata": {
        "id": "BMSS3K6qG64e"
      }
    },
    {
      "cell_type": "code",
      "source": [
        "svm_params = [\n",
        "    {\"C\": 0.1, \"kernel\": \"linear\"},\n",
        "    {\"C\": 1, \"kernel\": \"linear\"},\n",
        "    {\"C\": 10, \"kernel\": \"linear\"},\n",
        "    {\"C\": 1, \"kernel\": \"rbf\"},\n",
        "    {\"C\": 10, \"kernel\": \"rbf\"},\n",
        "    {\"C\": 1, \"kernel\": \"poly\"},\n",
        "    {\"C\": 10, \"kernel\": \"poly\"}\n",
        "]\n",
        "\n",
        "best_svm_model = None\n",
        "best_svm_accuracy = 0\n",
        "best_svm_params = {}\n",
        "\n",
        "print(\"\\n Tuning Support Vector Machine (SVM)...\")\n",
        "for params in svm_params:\n",
        "    model = SVC(**params)\n",
        "    model.fit(X_train_transformed, y_train)\n",
        "    y_pred = model.predict(X_test_transformed)\n",
        "    acc = accuracy_score(y_test, y_pred)\n",
        "\n",
        "    print(f\"Params: {params}, Accuracy: {acc:.4f}\")\n",
        "\n",
        "    if acc > best_svm_accuracy:\n",
        "        best_svm_accuracy = acc\n",
        "        best_svm_model = model\n",
        "        best_svm_params = params\n",
        "\n",
        "print(\"\\n Best SVM Model:\")\n",
        "print(f\"Hyperparameters: {best_svm_params}\")\n",
        "print(f\"Accuracy: {best_svm_accuracy:.4f}\")"
      ],
      "metadata": {
        "colab": {
          "base_uri": "https://localhost:8080/"
        },
        "id": "nnifgs6NHAZV",
        "outputId": "ddbcd9d4-5d49-4112-a0e8-828573af6ec7"
      },
      "execution_count": 13,
      "outputs": [
        {
          "output_type": "stream",
          "name": "stdout",
          "text": [
            "\n",
            " Tuning Support Vector Machine (SVM)...\n",
            "Params: {'C': 0.1, 'kernel': 'linear'}, Accuracy: 0.8550\n",
            "Params: {'C': 1, 'kernel': 'linear'}, Accuracy: 0.8550\n",
            "Params: {'C': 10, 'kernel': 'linear'}, Accuracy: 0.8600\n",
            "Params: {'C': 1, 'kernel': 'rbf'}, Accuracy: 0.9350\n",
            "Params: {'C': 10, 'kernel': 'rbf'}, Accuracy: 0.9250\n",
            "Params: {'C': 1, 'kernel': 'poly'}, Accuracy: 0.9100\n",
            "Params: {'C': 10, 'kernel': 'poly'}, Accuracy: 0.9100\n",
            "\n",
            " Best SVM Model:\n",
            "Hyperparameters: {'C': 1, 'kernel': 'rbf'}\n",
            "Accuracy: 0.9350\n"
          ]
        }
      ]
    },
    {
      "cell_type": "markdown",
      "source": [
        "# K-Nearest Neighbors Hyperparameter Tuning"
      ],
      "metadata": {
        "id": "WOAKCS8LHeFb"
      }
    },
    {
      "cell_type": "code",
      "source": [
        "knn_params = [\n",
        "    {\"n_neighbors\": 3, \"weights\": \"uniform\", \"metric\": \"euclidean\"},\n",
        "    {\"n_neighbors\": 5, \"weights\": \"uniform\", \"metric\": \"euclidean\"},\n",
        "    {\"n_neighbors\": 7, \"weights\": \"uniform\", \"metric\": \"euclidean\"},\n",
        "    {\"n_neighbors\": 3, \"weights\": \"distance\", \"metric\": \"euclidean\"},\n",
        "    {\"n_neighbors\": 5, \"weights\": \"distance\", \"metric\": \"euclidean\"},\n",
        "    {\"n_neighbors\": 7, \"weights\": \"distance\", \"metric\": \"euclidean\"},\n",
        "    {\"n_neighbors\": 3, \"weights\": \"uniform\", \"metric\": \"manhattan\"},\n",
        "    {\"n_neighbors\": 5, \"weights\": \"uniform\", \"metric\": \"manhattan\"},\n",
        "    {\"n_neighbors\": 7, \"weights\": \"uniform\", \"metric\": \"manhattan\"},\n",
        "    {\"n_neighbors\": 3, \"weights\": \"distance\", \"metric\": \"manhattan\"},\n",
        "    {\"n_neighbors\": 5, \"weights\": \"distance\", \"metric\": \"manhattan\"},\n",
        "    {\"n_neighbors\": 7, \"weights\": \"distance\", \"metric\": \"manhattan\"}\n",
        "]\n",
        "\n",
        "best_knn_model = None\n",
        "best_knn_accuracy = 0\n",
        "best_knn_params = {}\n",
        "\n",
        "print(\"\\n🔍 Tuning K-Nearest Neighbors (KNN)...\")\n",
        "for params in knn_params:\n",
        "    model = KNeighborsClassifier(**params)\n",
        "    model.fit(X_train_transformed, y_train)\n",
        "    y_pred = model.predict(X_test_transformed)\n",
        "    acc = accuracy_score(y_test, y_pred)\n",
        "\n",
        "    print(f\"Params: {params}, Accuracy: {acc:.4f}\")\n",
        "\n",
        "    if acc > best_knn_accuracy:\n",
        "        best_knn_accuracy = acc\n",
        "        best_knn_model = model\n",
        "        best_knn_params = params\n",
        "\n",
        "print(\"\\n Best KNN Model:\")\n",
        "print(f\"Hyperparameters: {best_knn_params}\")\n",
        "print(f\"Accuracy: {best_knn_accuracy:.4f}\")\n",
        "\n",
        "print(\"\\n  Classification Report:\")\n",
        "print(classification_report(y_test, best_knn_model.predict(X_test_transformed)))\n",
        "\n",
        "print(\"\\n  Confusion Matrix:\")\n",
        "print(confusion_matrix(y_test, best_knn_model.predict(X_test_transformed)))\n"
      ],
      "metadata": {
        "colab": {
          "base_uri": "https://localhost:8080/"
        },
        "id": "8zEopghZHe5F",
        "outputId": "a2102424-3981-41c2-eb64-5aff2d3685cf"
      },
      "execution_count": 14,
      "outputs": [
        {
          "output_type": "stream",
          "name": "stdout",
          "text": [
            "\n",
            "🔍 Tuning K-Nearest Neighbors (KNN)...\n",
            "Params: {'n_neighbors': 3, 'weights': 'uniform', 'metric': 'euclidean'}, Accuracy: 0.8350\n",
            "Params: {'n_neighbors': 5, 'weights': 'uniform', 'metric': 'euclidean'}, Accuracy: 0.8600\n",
            "Params: {'n_neighbors': 7, 'weights': 'uniform', 'metric': 'euclidean'}, Accuracy: 0.8700\n",
            "Params: {'n_neighbors': 3, 'weights': 'distance', 'metric': 'euclidean'}, Accuracy: 0.8350\n",
            "Params: {'n_neighbors': 5, 'weights': 'distance', 'metric': 'euclidean'}, Accuracy: 0.8600\n",
            "Params: {'n_neighbors': 7, 'weights': 'distance', 'metric': 'euclidean'}, Accuracy: 0.8700\n",
            "Params: {'n_neighbors': 3, 'weights': 'uniform', 'metric': 'manhattan'}, Accuracy: 0.8500\n",
            "Params: {'n_neighbors': 5, 'weights': 'uniform', 'metric': 'manhattan'}, Accuracy: 0.8050\n",
            "Params: {'n_neighbors': 7, 'weights': 'uniform', 'metric': 'manhattan'}, Accuracy: 0.8150\n",
            "Params: {'n_neighbors': 3, 'weights': 'distance', 'metric': 'manhattan'}, Accuracy: 0.8500\n",
            "Params: {'n_neighbors': 5, 'weights': 'distance', 'metric': 'manhattan'}, Accuracy: 0.8100\n",
            "Params: {'n_neighbors': 7, 'weights': 'distance', 'metric': 'manhattan'}, Accuracy: 0.8200\n",
            "\n",
            " Best KNN Model:\n",
            "Hyperparameters: {'n_neighbors': 7, 'weights': 'uniform', 'metric': 'euclidean'}\n",
            "Accuracy: 0.8700\n",
            "\n",
            "  Classification Report:\n",
            "              precision    recall  f1-score   support\n",
            "\n",
            "           0       0.88      0.90      0.89       118\n",
            "           1       0.85      0.83      0.84        82\n",
            "\n",
            "    accuracy                           0.87       200\n",
            "   macro avg       0.87      0.86      0.87       200\n",
            "weighted avg       0.87      0.87      0.87       200\n",
            "\n",
            "\n",
            "  Confusion Matrix:\n",
            "[[106  12]\n",
            " [ 14  68]]\n"
          ]
        }
      ]
    },
    {
      "cell_type": "markdown",
      "source": [
        "# Training the Best Model\n",
        "\n",
        "* Best Model: Support Vector Machine (SVM) with C=1, kernel=rbf.\n",
        "\n",
        "* Final Accuracy: 93.50%, indicating strong predictive performance.\n",
        "* Confusion Matrix: Displays correct vs incorrect predictions, showing that the model is effectively classifying heart disease cases.\n",
        "* Classification Report: Highlights precision, recall, and F1-score, confirming the model's balance between identifying true positives and minimizing false negatives."
      ],
      "metadata": {
        "id": "yWSKgnkfHt9w"
      }
    },
    {
      "cell_type": "code",
      "source": [
        "#Step 1: Select Best Found Hyperparameters\n",
        "best_svm_params = {\"C\": 1, \"kernel\": \"rbf\"}  # Replace with your best params if different\n",
        "\n",
        "#Step 2: Train the Best SVM Model\n",
        "best_svm_model = SVC(**best_svm_params, probability=True)  # Enables probability predictions\n",
        "best_svm_model.fit(X_train_transformed, y_train)\n",
        "\n",
        "#Step 3: Make Predictions\n",
        "y_pred = best_svm_model.predict(X_test_transformed)\n",
        "y_pred_proba = best_svm_model.predict_proba(X_test_transformed)[:, 1]  # Get probability scores for AUC-ROC\n",
        "\n",
        "#Step 4: Evaluate Model Performance\n",
        "accuracy = accuracy_score(y_test, y_pred)\n",
        "print(\"\\n Final SVM Model Evaluation:\")\n",
        "print(f\"Best Hyperparameters: {best_svm_params}\")\n",
        "print(f\"Accuracy Score: {accuracy:.4f}\")\n",
        "\n",
        "print(\"\\n Classification Report:\")\n",
        "print(classification_report(y_test, y_pred))\n",
        "\n",
        "print(\"\\n Confusion Matrix:\")\n",
        "print(confusion_matrix(y_test, y_pred))\n",
        "\n",
        "\n",
        "plt.figure(figsize=(6, 5))\n",
        "sns.heatmap(confusion_matrix(y_test, y_pred), annot=True, fmt='d', cmap='Blues', xticklabels=[\"No Disease\", \"Disease\"], yticklabels=[\"No Disease\", \"Disease\"])\n",
        "plt.xlabel(\"Predicted Label\")\n",
        "plt.ylabel(\"True Label\")\n",
        "plt.title(\"Confusion Matrix - Best SVM Model\")\n",
        "plt.show()\n",
        "\n",
        "# Display Classification Report as Heatmap\n",
        "report = classification_report(y_test, y_pred, output_dict=True)\n",
        "df_report = pd.DataFrame(report).T\n",
        "\n",
        "plt.figure(figsize=(8, 5))\n",
        "sns.heatmap(df_report.iloc[:-1, :-1], annot=True, cmap=\"coolwarm\", fmt=\".2f\")\n",
        "plt.title(\"Classification Report - Best SVM Model\")\n",
        "plt.show()"
      ],
      "metadata": {
        "colab": {
          "base_uri": "https://localhost:8080/",
          "height": 1000
        },
        "id": "Jf6RZMovIEBy",
        "outputId": "347bff9a-1877-44a7-ad11-52c4dcb67a7f"
      },
      "execution_count": 15,
      "outputs": [
        {
          "output_type": "stream",
          "name": "stdout",
          "text": [
            "\n",
            " Final SVM Model Evaluation:\n",
            "Best Hyperparameters: {'C': 1, 'kernel': 'rbf'}\n",
            "Accuracy Score: 0.9350\n",
            "\n",
            " Classification Report:\n",
            "              precision    recall  f1-score   support\n",
            "\n",
            "           0       0.93      0.97      0.95       118\n",
            "           1       0.95      0.89      0.92        82\n",
            "\n",
            "    accuracy                           0.94       200\n",
            "   macro avg       0.94      0.93      0.93       200\n",
            "weighted avg       0.94      0.94      0.93       200\n",
            "\n",
            "\n",
            " Confusion Matrix:\n",
            "[[114   4]\n",
            " [  9  73]]\n"
          ]
        },
        {
          "output_type": "display_data",
          "data": {
            "text/plain": [
              "<Figure size 600x500 with 2 Axes>"
            ],
            "image/png": "[encoded data removed]"
          },
          "metadata": {}
        },
        {
          "output_type": "display_data",
          "data": {
            "text/plain": [
              "<Figure size 800x500 with 2 Axes>"
            ],
            "image/png": "[encoded data removed]"
          },
          "metadata": {}
        }
      ]
    },
    {
      "cell_type": "markdown",
      "source": [
        "# Conclusion\n",
        "\n",
        "In this experiment, i am able to create a Support Vector Machine (SVM) model to predict heart disease. Upon trying out several hyperparameter values, the optimal model was chosen with C=1, kernel=rbf, yielding a 93.50% accuracy. The model properly separated heart disease patients from non-heart disease patients as validated by the confusion matrix and classification report.\n",
        "\n",
        "SVM's improved performance shows that heart disease categorization is reinforced by non-linear decision boundaries and is a precious asset in the field of medical diagnosis. It can be applied to assist clinicians in early identification and risk factors, leading to better treatment practices and patient survival.\n",
        "\n"
      ],
      "metadata": {
        "id": "V0UHSw_EPmZ-"
      }
    },
    {
      "cell_type": "code",
      "source": [],
      "metadata": {
        "id": "-29Kag_K3C2K"
      },
      "execution_count": null,
      "outputs": []
    },
    {
      "cell_type": "code",
      "source": [
        "import nbconvert\n",
        "!jupyter nbconvert --to html Heart_disease_ml_Final1.ipynb\n",
        "\n",
        "\n"
      ],
      "metadata": {
        "colab": {
          "base_uri": "https://localhost:8080/"
        },
        "id": "_AKBS_ZU3TIL",
        "outputId": "461b16d6-4544-45d8-9a81-1c048eeeca0c"
      },
      "execution_count": 18,
      "outputs": [
        {
          "output_type": "stream",
          "name": "stdout",
          "text": [
            "[NbConvertApp] Converting notebook Heart_disease_ml_Final1.ipynb to html\n",
            "[NbConvertApp] WARNING | Alternative text is missing on 2 image(s).\n",
            "[NbConvertApp] Writing 421655 bytes to Heart_disease_ml_Final1.html\n"
          ]
        }
      ]
    }
  ]
}